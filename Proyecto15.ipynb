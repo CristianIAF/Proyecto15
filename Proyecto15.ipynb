{
  "nbformat": 4,
  "nbformat_minor": 0,
  "metadata": {
    "colab": {
      "provenance": []
    },
    "kernelspec": {
      "name": "python3",
      "display_name": "Python 3"
    },
    "language_info": {
      "name": "python"
    }
  },
  "cells": [
    {
      "cell_type": "markdown",
      "source": [
        "15 - El departamento de Recursos Humanos de tu empresa te pidió ayuda para analizar las edades de los colaboradores de 4 sectores de la empresa. Para ello, te proporcionaron los siguientes datos:\n",
        "\n",
        "{'Setor A': [22, 26, 30, 30, 35, 38, 40, 56, 57, 65],\n",
        " 'Setor B': [22, 24, 26, 33, 41, 49, 50, 54, 60, 64],\n",
        " 'Setor C': [23, 26, 26, 29, 34, 35, 36, 41, 52, 56],\n",
        " 'Setor D': [19, 20, 25, 27, 34, 39, 42, 44, 50, 65]}\n",
        "\n",
        " Dado que cada sector tiene 10 colaboradores, construye un código que calcule la media de edad de cada sector, la edad media general entre todos los sectores y cuántas personas están por encima de la edad media general."
      ],
      "metadata": {
        "id": "UEyXR4FR0rwJ"
      }
    },
    {
      "cell_type": "code",
      "source": [
        "dato_edades_colaboradores = {\n",
        "    'Setor A': [22, 26, 30, 30, 35, 38, 40, 56, 57, 65],\n",
        "    'Setor B': [22, 24, 26, 33, 41, 49, 50, 54, 60, 64],\n",
        "    'Setor C': [23, 26, 26, 29, 34, 35, 36, 41, 52, 56],\n",
        "    'Setor D': [19, 20, 25, 27, 34, 39, 42, 44, 50, 65]\n",
        "}\n",
        "\n",
        "# Cálculo de la media por sector\n",
        "for sector, edades in dato_edades_colaboradores.items():\n",
        "    media_edad = sum(edades) / len(edades)\n",
        "    print(f\"Media de edad en {sector}: {media_edad:.2f}\")\n",
        "\n",
        "# Edad media general\n",
        "edad_media_general = sum(sum(edades) for edades in dato_edades_colaboradores.values()) / sum(len(edades) for edades in dato_edades_colaboradores.values())\n",
        "print(f\"Edad media general: {edad_media_general:.2f}\")\n",
        "\n",
        "# Personas por encima de la media general\n",
        "colaboradores_por_encima_media = sum(sum(1 for edad in edades if edad > edad_media_general) for edades in dato_edades_colaboradores.values())\n",
        "print(f\"Personas por encima de la media general: {colaboradores_por_encima_media}\")"
      ],
      "metadata": {
        "colab": {
          "base_uri": "https://localhost:8080/"
        },
        "id": "euxjNlMM0wfy",
        "outputId": "005dd029-5b36-41bf-e959-213ad5b1f810"
      },
      "execution_count": 2,
      "outputs": [
        {
          "output_type": "stream",
          "name": "stdout",
          "text": [
            "Media de edad en Setor A: 39.90\n",
            "Media de edad en Setor B: 42.30\n",
            "Media de edad en Setor C: 35.80\n",
            "Media de edad en Setor D: 36.50\n",
            "Edad media general: 38.62\n",
            "Personas por encima de la media general: 18\n"
          ]
        }
      ]
    },
    {
      "cell_type": "markdown",
      "source": [
        "Vamos a desglosar el código optimizado paso a paso, explicando su estructura, ventajas y diferencias clave con respecto al enfoque original. Usaremos el ejemplo concreto de los datos proporcionados para ilustrar el proceso."
      ],
      "metadata": {
        "id": "ck4vI6UOFSsR"
      }
    },
    {
      "cell_type": "code",
      "source": [
        "datos_edades = {\n",
        "    'Setor A': [22, 26, 30, 30, 35, 38, 40, 56, 57, 65],\n",
        "    'Setor B': [22, 24, 26, 33, 41, 49, 50, 54, 60, 64],\n",
        "    'Setor C': [23, 26, 26, 29, 34, 35, 36, 41, 52, 56],\n",
        "    'Setor D': [19, 20, 25, 27, 34, 39, 42, 44, 50, 65]\n",
        "}\n",
        "\n",
        "# 1. Calcular media por sector\n",
        "for sector, edades in datos_edades.items():\n",
        "    media_sector = sum(edades) / len(edades)\n",
        "    print(f\"Media de edad en {sector}: {media_sector:.2f}\")\n",
        "\n",
        "# 2. Calcular edad media general (optimizado)\n",
        "todas_edades = [edad for sector in datos_edades.values() for edad in sector]\n",
        "media_general = sum(todas_edades) / len(todas_edades)\n",
        "print(f\"\\nEdad media general: {media_general:.2f}\")\n",
        "\n",
        "# 3. Contar personas por encima de la media (optimizado)\n",
        "contador = sum(1 for edad in todas_edades if edad > media_general)\n",
        "print(f\"Personas por encima de la media general: {contador}\")"
      ],
      "metadata": {
        "colab": {
          "base_uri": "https://localhost:8080/"
        },
        "id": "zCpciTXWFTiH",
        "outputId": "55cf8668-fdf1-46fa-fb62-ab6318a2483e"
      },
      "execution_count": 3,
      "outputs": [
        {
          "output_type": "stream",
          "name": "stdout",
          "text": [
            "Media de edad en Setor A: 39.90\n",
            "Media de edad en Setor B: 42.30\n",
            "Media de edad en Setor C: 35.80\n",
            "Media de edad en Setor D: 36.50\n",
            "\n",
            "Edad media general: 38.62\n",
            "Personas por encima de la media general: 18\n"
          ]
        }
      ]
    }
  ]
}